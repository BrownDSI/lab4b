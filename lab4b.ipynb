{
 "cells": [
  {
   "cell_type": "markdown",
   "metadata": {},
   "source": [
    "# Lab 4b: Database Creation, Population and Relational Algebra \n",
    "\n",
    "** Introduction **\n",
    "\n",
    "Since Panda's dataframes are essentially tables and Panda's provides easy to use [SQL-like methods](https://pandas.pydata.org/pandas-docs/stable/comparison_with_sql.html) for manipulating and querying multiple tables, why do we still need databases? \n",
    "\n",
    "Almost all transactional data (that changes over time, and particularly data with records that are updated over time) is stored in databases as opposed to flat files. The reason for this is that databases typically offer persistence, scalability, support for concurrent users and transactions.  For enterprise computing, and other data critical tasks, flat files and ad hoc in-memory schemes simply can't compete with [ACID](https://en.wikipedia.org/wiki/ACID).  There has been thousands of years worth of development effort put into safely and efficiently handling very large databases led by the relational database community.  More recently [other forms of databases](https://en.wikipedia.org/wiki/NoSQL) (such as columnar databases, e.g., [MongoDB](https://www.mongodb.com/nosql-explained)) have also been working on handling this same problems.\n",
    "\n",
    "As a data scientist in a corporate environment you will typically be expected to be able to form SQL queries to extract data relevant for your research from whatever databases are in use.  Since those databases are designed to enforce various business constraints (e.g., Normal form) they can be quite cumbersome query.  \n",
    "\n",
    "In order to simply the querying process, the star schema introduced in the last lab, in lecture, and also the focus of this lab is often employed by data scientists for data warehouse design.  Here's a nice short [video](https://www.youtube.com/watch?v=q77B-G8CA24) about Star Schemas versus Normalized Schema Database systems, and how flattening (which often includes partial de-normalization) to a Star Schema allows for much easier database querying.\n",
    "\n",
    "\n",
    "**Objective **\n",
    "\n",
    "In this lab, you will use SQL statements to create a Star Schema database and then\n",
    "use Python and more SQL to load it with appropriately preprocessed data after.  While doing this you will be become familiar with [SQLite databases](https://www.sqlite.org/about.html) and with using Python's [sqlite3](https://docs.python.org/3/library/sqlite3.html) sqlite interface package.\n",
    "\n",
    "You will also use relational algebra expressions to define some queries.  \n",
    "\n",
    "\n",
    "** Tasks **\n",
    "1. Create a database based on a Star Schema\n",
    "1. Populate the database using flat files\n",
    "2. Write Relational Algebra expressions"
   ]
  },
  {
   "cell_type": "markdown",
   "metadata": {},
   "source": [
    "### Using SQL\n",
    "\n",
    "Using SQL directly and SQL with Python is very easy. Below are two examples of creating a database table, inserting data into the table, and querying data from the table.  The first should be run inside of `sqlite3` which you can start at the command line, as follows:\n",
    "```\n",
    "Zeus:lab4b Dan$ sqlite3 food.db\n",
    "SQLite version 3.13.0 2016-05-18 10:57:30\n",
    "Enter \".help\" for usage hints.\n",
    "sqlite> \n",
    "```\n",
    "After you have a `sqlite>` prompt displayed in a Terminal window, please work through the example below using sequential copy and paste operations to the `sqlite>` prompt."
   ]
  },
  {
   "cell_type": "markdown",
   "metadata": {},
   "source": [
    "```\n",
    "-- Below are some examples of using the SQLite via its interpreter.\n",
    "\n",
    "-- delete a table if it is present\n",
    "DROP TABLE IF EXISTS food;\n",
    "\n",
    "-- create a table called food\n",
    "CREATE TABLE food (\n",
    "            id INTEGER,\n",
    "            name text,\n",
    "            amount float,\n",
    "            unit text,\n",
    "            PRIMARY KEY(id),\n",
    "            UNIQUE (name));\n",
    "\n",
    "-- insert some individual records into the food table\n",
    "INSERT INTO food (name, amount, unit) VALUES ('apple', 3, 'whole');\n",
    "INSERT INTO food (name, amount, unit) VALUES ('milk', 64, 'oz' );\n",
    "\n",
    "-- insert multiple items into the food table\n",
    "INSERT INTO food (name, amount, unit) VALUES ('chicken', 4, 'whole' ), \n",
    "                                             ('beer',16,'oz');                                              \n",
    "-- retrieve information of interest\n",
    "-- This query returns the first 3 sorted food names and entry ids \n",
    "SELECT name, id FROM food ORDER BY name ASC LIMIT 3;\n",
    "\n",
    "\n",
    "-- show the current database schema (just shows CREATE statements)\n",
    ".schema \n",
    "\n",
    "-- Exit the SQLite intrepreter\n",
    ".exit\n",
    "```"
   ]
  },
  {
   "cell_type": "markdown",
   "metadata": {},
   "source": [
    "### Using Python & SQL\n",
    "Below is the above example, but coded in Python using the [sqlite3](https://docs.python.org/3/library/sqlite3.html) package interface for sqlite."
   ]
  },
  {
   "cell_type": "markdown",
   "metadata": {},
   "source": [
    "##### Open a Connection:\n",
    "The first thing you'll need to do when interacting with a SQLite database  via a computer program (and generally any SQL database) is to open up a connection (see below). If the database doesn't exist, the SQLite3 module will create one for you when you first request a connection to it."
   ]
  },
  {
   "cell_type": "code",
   "execution_count": null,
   "metadata": {
    "collapsed": true
   },
   "outputs": [],
   "source": [
    "import sqlite3\n",
    "conn = sqlite3.connect('food.db')"
   ]
  },
  {
   "cell_type": "markdown",
   "metadata": {},
   "source": [
    "##### Create a Cursor Object:\n",
    "You have now opened a connection with the database. Next, let's create a cursor object for handling SQL queries. A cursor is essentially a small work area in memory where one formulates queries before sending them to the database for execution, after execution, this same area holds query results.  The purpose of a cursor is to allow a program to work with HUGE query results row by row.  It gets its name because it acts a pointer (a cursor!) into query results."
   ]
  },
  {
   "cell_type": "code",
   "execution_count": null,
   "metadata": {
    "collapsed": true
   },
   "outputs": [],
   "source": [
    "# create a cursor for the current connection\n",
    "c = conn.cursor()"
   ]
  },
  {
   "cell_type": "markdown",
   "metadata": {},
   "source": [
    "And here's the example recoded in Python.  ** The only thing missing is the .schema command, which isn't readily available via the python sqlite3 interface. **"
   ]
  },
  {
   "cell_type": "code",
   "execution_count": null,
   "metadata": {
    "collapsed": false
   },
   "outputs": [],
   "source": [
    "## Below are some examples of using SQLite via Python.\n",
    "# Python specific setup:\n",
    "import sqlite3\n",
    "# connect to database, creates database if not already present\n",
    "conn = sqlite3.connect('food.db')  # database is stored in file 'example.db'\n",
    "# create cursor \n",
    "c = conn.cursor() # cursor are used to interact with a db\n",
    "\n",
    "# Begin Example\n",
    "# delete a table if it is present\n",
    "c.execute('DROP TABLE IF EXISTS food')\n",
    "\n",
    "# create a table called food\n",
    "c.execute('''CREATE TABLE food (\n",
    "            id INTEGER,\n",
    "            name text,\n",
    "            amount float,\n",
    "            unit text,\n",
    "            PRIMARY KEY(id),\n",
    "            UNIQUE (name))''')\n",
    "conn.commit()\n",
    "\n",
    "# insert some individual records into the food table\n",
    "try:\n",
    "    c.execute('''INSERT INTO food (name, amount, unit) VALUES (?, ?, ?)''', ('apple', 3, 'whole'))\n",
    "    c.execute('''INSERT INTO food (name, amount, unit) VALUES (?, ?, ?)''', ('milk', 64, 'oz' ))\n",
    "except sqlite3.Error as e: # Executes code below when a sqlite3 error occurs  \n",
    "    print(\"food, insert error:\", e.args[0])\n",
    "\n",
    "conn.commit()\n",
    "\n",
    "# insert multiple recordds\n",
    "try:\n",
    "    c.executemany('''INSERT INTO food (name, amount, unit) VALUES (?, ?, ?)''', [('chicken', 4, 'whole' ), \n",
    "                                                                                 ('beer',128,'oz'),\n",
    "                                                                                 ('beer',16,'oz')])\n",
    "except sqlite3.Error as e:  # Executes code below when a sqlite3 error occurs  \n",
    "    print(\"food, insert error:\", e.args[0])\n",
    "\n",
    "conn.commit()\n",
    "\n",
    "# retrieve information of interest\n",
    "# This query returns the first 3 sorted food names and entry ids \n",
    "c.execute('''SELECT name, id FROM food ORDER BY name ASC LIMIT 3''')\n",
    "\n",
    "# display query results\n",
    "for r in c:\n",
    "    print(r)\n",
    "\n",
    "# shut the connection to the database\n",
    "conn.close()"
   ]
  },
  {
   "cell_type": "markdown",
   "metadata": {},
   "source": [
    "** Task 0: ** Figure out why there was an insert error.  How can it be eliminated?\n",
    "\n",
    "your solution here"
   ]
  },
  {
   "cell_type": "markdown",
   "metadata": {},
   "source": [
    "### Create your own database"
   ]
  },
  {
   "cell_type": "markdown",
   "metadata": {},
   "source": [
    "In **Lab 4a** you designed a star schema to represent class enrollments. Today you will work with python to create a set of tables appropriate for the following course-enrollment schema:\n",
    "\n",
    "<img src=\"student_star_schema.jpg\", width=500>\n",
    "\n",
    "In the above schema each row the fact table represents a course that a student has taken and the grade that they received.\n",
    "\n",
    "**Hints:** \n",
    "- It is often easier to debug sql queries and commands using the SQL interpreter\n",
    "\n",
    "In Python,\n",
    "- to execute queries, simply run the `cursor.execute()` with your query as the argument.\n",
    "- Remember to define `PRIMARY KEY`s and `FOREIGN KEY`s in your table, refer to [here](http://www.sqlitetutorial.net/sqlite-create-table/)\n",
    "- Remember to use `conn.commit()` to commit any changes you've made to the database\n",
    "- If you get a database locked message try using the Jupyter Notebook Kernel menu item to restart the kernel "
   ]
  },
  {
   "cell_type": "markdown",
   "metadata": {},
   "source": [
    "** TASK 1: Complete the following `create_database()` function **\n",
    "Note: In the code below we include a line that drops pre-existing database tables related to your schema, doing this will allow you run your create_database function repeatedly."
   ]
  },
  {
   "cell_type": "code",
   "execution_count": null,
   "metadata": {
    "collapsed": true
   },
   "outputs": [],
   "source": [
    "import sqlite3\n",
    "conn = sqlite3.connect('student.db')\n",
    "\n",
    "def create_database(conn):\n",
    "    '''Creates tables appropriate for the Star Schema developed in Lab 4a'''\n",
    "    c = conn.cursor()\n",
    "    c.execute('''DROP TABLE IF EXISTS students''')\n",
    "    c.execute('''DROP TABLE IF EXISTS courses''')\n",
    "    c.execute('''DROP TABLE IF EXISTS fact_table''')\n",
    "    \n",
    "    # Create database with tables.\n",
    "    \n",
    "    c.execute('''\n",
    "            CREATE TABLE students(\n",
    "                id INTEGER,\n",
    "                student text,\n",
    "                age int,\n",
    "                degree text,\n",
    "                PRIMARY KEY(id),\n",
    "                UNIQUE (student))''')\n",
    "    \n",
    "    \n",
    "    # Create courses table \n",
    "    # YOUR CODE HERE\n",
    "    \n",
    "    # Uncomment and complete the fact_table\n",
    "#    c.execute('''\n",
    "#            CREATE TABLE fact_table(\n",
    "#                student_id INTEGER,\n",
    "#\n",
    "#                FOREIGN KEY (student_id) REFERENCES students(id),                \n",
    "#                ''')\n",
    "    \n",
    "    # YOUR CODE HERE\n",
    "    \n",
    "    # Commit all changes\n",
    "    conn.commit()\n",
    "\n",
    "# Call the create_database() function\n",
    "create_database(conn)"
   ]
  },
  {
   "cell_type": "markdown",
   "metadata": {},
   "source": [
    "##### View your database schema:\n",
    "Now, you should be able to view the sqlite3 database which you had created in your assignment directory. \n",
    "You can now play around with this database to understand the different aspects of the database you just created!!!! \n",
    "\n",
    "Connect to a sqlite3 database via terminal with the following command:\n",
    "\n",
    "```\n",
    "$ sqlite3 student.db\n",
    "```\n",
    "\n",
    "To view the schema of your database, you can run the following command:\n",
    "\n",
    "~~~~\n",
    ".schema\n",
    "~~~~\n",
    "\n",
    "If you need help on other meta commands, you can run \n",
    "~~~~\n",
    ".help\n",
    "~~~~\n",
    "\n",
    "Finally, to exit from a sqlite3 database, you can run the following command:\n",
    "\n",
    "~~~~\n",
    ".exit\n",
    "~~~~"
   ]
  },
  {
   "cell_type": "raw",
   "metadata": {},
   "source": [
    "### Part 4b.2: Populate database\n",
    "\n",
    "##### Insert data into the database:\n",
    "\n",
    "Insert the the following dataset csv files into your database:\n",
    "\n",
    "~~~~\n",
    "students.csv\n",
    "courses.csv\n",
    "fact_table.csv\n",
    "~~~~\n",
    "\n",
    "**Note:** \n",
    "\n",
    "- Convert all the strings to lowercase. \n",
    "- Load records into database line-by-line while you read through each csv file."
   ]
  },
  {
   "cell_type": "markdown",
   "metadata": {},
   "source": [
    "##### Populate/update database:\n",
    "\n",
    "** TASK 2 **: Complete the following `populate_database()` function to populate the database we just created.  Be sure to use the sqlite3 interpreter, or write some additional python commands to check your work."
   ]
  },
  {
   "cell_type": "code",
   "execution_count": null,
   "metadata": {
    "collapsed": false,
    "scrolled": true
   },
   "outputs": [],
   "source": [
    "import sqlite3\n",
    "import csv\n",
    "import pandas\n",
    "\n",
    "def populate_database(conn):\n",
    "    '''\n",
    "    Populates database created via populate_data() by using\n",
    "    student.csv and instructor.csv\n",
    "    '''\n",
    "    \n",
    "    c = conn.cursor()\n",
    "    \n",
    "    # Load student dimension table\n",
    "    \n",
    "    # Create a CSV reader\n",
    "    reader = csv.reader(open('students.csv'))\n",
    "\n",
    "    # skip header\n",
    "    next(reader, None)\n",
    "    for row in reader:\n",
    "        # Convert row to lower case\n",
    "        row = [item.lower() for item in row]\n",
    "        try:\n",
    "            c.execute('''\n",
    "                INSERT INTO students (student,age,degree) VALUES (?, ?, ?)\n",
    "                ''', (row[0], row[1], row[2]))\n",
    "        \n",
    "        except sqlite3.Error as e:\n",
    "            print(\"students, insert error:\", e.args[0])\n",
    "    conn.commit()\n",
    "    \n",
    "    # Load the courses dimension table\n",
    "    # YOUR CODE HERE\n",
    "    conn.commit()\n",
    "    \n",
    "    # Create the fact table\n",
    "    reader = csv.reader(open('fact_table.csv'))\n",
    "\n",
    "    # skip header\n",
    "    next(reader, None)\n",
    "\n",
    "    for row in reader:\n",
    "        row = [item.lower() for item in row]\n",
    "        try:\n",
    "            # This INSERT SELECT statement looks up and uses appropriate dimension ids \n",
    "            # for each row the of the fact_table.\n",
    "            c.execute('''\n",
    "                INSERT INTO fact_table (student_id, course_id, grade) \n",
    "                SELECT students.id, courses.id, ? FROM students, courses\n",
    "                WHERE students.student = ? AND courses.name = ?\n",
    "                ''', (row[2], row[0], row[1]))\n",
    "        except sqlite3.Error as e:\n",
    "            print(\"fact_table, insert error:\", e.args[0])\n",
    "        \n",
    "    # Commit to the connection in order to save the changes \n",
    "    conn.commit()\n",
    "\n",
    "    \n",
    "conn = sqlite3.connect('student.db')\n",
    "create_database(conn)\n",
    "populate_database(conn)\n",
    "\n",
    "# Admire your handy work\n",
    "# Note: this code uses Pandas to pretty prints query results \n",
    "for t in['students', 'courses', 'fact_table']:\n",
    "    print('%s:'%t)\n",
    "    print(pandas.read_sql_query(\"SELECT * FROM %s\"%t, conn), '\\n')"
   ]
  },
  {
   "cell_type": "markdown",
   "metadata": {},
   "source": [
    "### Using relational algebras\n",
    "\n",
    "In this final part of the lab, your task is to write [relational algebra](https://en.wikipedia.org/wiki/Relational_algebra) expressions using the following tables that represent a very limited subset of the student dataset. "
   ]
  },
  {
   "cell_type": "code",
   "execution_count": null,
   "metadata": {
    "collapsed": false
   },
   "outputs": [],
   "source": [
    "import pandas as pd\n",
    "# you should regard this table as the students table\n",
    "students = pd.read_csv('students.csv')\n",
    "students"
   ]
  },
  {
   "cell_type": "code",
   "execution_count": null,
   "metadata": {
    "collapsed": false
   },
   "outputs": [],
   "source": [
    "# you should regard this table as the courses table\n",
    "courses = pd.read_csv('courses.csv')\n",
    "courses"
   ]
  },
  {
   "cell_type": "code",
   "execution_count": null,
   "metadata": {
    "collapsed": false
   },
   "outputs": [],
   "source": [
    "# you should regard this table as the fact table.\n",
    "fact_table = pd.read_csv('fact_table.csv')\n",
    "fact_table"
   ]
  },
  {
   "cell_type": "markdown",
   "metadata": {},
   "source": [
    "Here is a relational algebra expression for the [Natural Join](https://en.wikipedia.org/wiki/Relational_algebra#Natural_join_.28.E2.8B.88.29) of two tables: \n",
    "<center> $table_A \\bowtie table_B$ </center>\n",
    "Below is result of $students \\bowtie fact\\_table$"
   ]
  },
  {
   "cell_type": "code",
   "execution_count": null,
   "metadata": {
    "collapsed": false
   },
   "outputs": [],
   "source": [
    "pd.merge(students, fact_table)"
   ]
  },
  {
   "cell_type": "markdown",
   "metadata": {},
   "source": [
    "The Natural Join expressions above written was written using Latex equations.  Click on this cell to see how the Latex formatting in markdown works.  As you can see, markdown regard everything inside a pair of \\$ \\$s as a Latex equation. \n",
    "\n",
    "\n",
    "** TASK 3 **: Based on the above tables, write relational algebra expressions, using Latex, for the following statements:\n",
    "\n",
    "1. Find the names of all students.\n",
    "2. Find all student and instructor name pairs such that a student has taken an instructor's course.\n",
    "3. Find the name of all students whose age is below 25.\n",
    "\n",
    "\n",
    "Hints: \n",
    "- For more examples and more information on Relational Algebra we recommend viewing these CSCI1270 [slides](https://cs.brown.edu/courses/csci1270/static/files/slides/RelAlgebra.pdf).\n",
    "- This CSCI1270 [Latex Cheet Sheet](http://cs.brown.edu/courses/csci1270/static/files/cs127_cheatsheet.pdf) contains a list symbols for writing relational algebra expressions. \n",
    "\n"
   ]
  },
  {
   "cell_type": "markdown",
   "metadata": {},
   "source": [
    "# YOUR CODE HERE"
   ]
  }
 ],
 "metadata": {
  "kernelspec": {
   "display_name": "Python 3",
   "language": "python",
   "name": "python3"
  },
  "language_info": {
   "codemirror_mode": {
    "name": "ipython",
    "version": 3
   },
   "file_extension": ".py",
   "mimetype": "text/x-python",
   "name": "python",
   "nbconvert_exporter": "python",
   "pygments_lexer": "ipython3",
   "version": "3.6.0"
  }
 },
 "nbformat": 4,
 "nbformat_minor": 2
}
